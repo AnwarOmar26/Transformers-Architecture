{
  "nbformat": 4,
  "nbformat_minor": 0,
  "metadata": {
    "colab": {
      "provenance": [],
      "toc_visible": true
    },
    "kernelspec": {
      "name": "python3",
      "display_name": "Python 3"
    },
    "language_info": {
      "name": "python"
    }
  },
  "cells": [
    {
      "cell_type": "code",
      "source": [
        "import torch\n",
        "import torch.nn as nn"
      ],
      "metadata": {
        "id": "IzWI1efTyQ56"
      },
      "execution_count": 78,
      "outputs": []
    },
    {
      "cell_type": "markdown",
      "source": [
        "**Pytorch  function that can help**\n",
        "\n",
        "**Tensor Manipulation:**\n",
        "\n",
        "`torch.einsum`: Matrix multiplication for attention computations.                  \n",
        "`torch.reshape`: Reshapes tensors.                                                   \n",
        "`torch.masked_fill`: Masks specific elements in a tensor.                          \n",
        "`torch.softmax`: Converts raw scores into probabilities.                           \n",
        "`torch.arange`: Creates sequences for positional embeddings.                          \n",
        "`torch.to`: Moves tensors to a specific device.                                     \n",
        "\n",
        "\n",
        "\n",
        "---\n",
        "\n",
        "\n",
        "\n",
        "**Layers:**\n",
        "\n",
        "`nn.Linear`: Linear transformations for Q, K, V, and other layers.                     \n",
        "`nn.LayerNorm`: Normalization layers.                                      \n",
        "`nn.Sequential`: Combines layers into a pipeline for feed-forward networks.                   \n",
        "`nn.Embedding`: Maps tokens and positions to dense vectors.                        \n",
        "`nn.Dropout`: Regularization to improve generalization."
      ],
      "metadata": {
        "id": "UfY--LZ_MPlD"
      }
    },
    {
      "cell_type": "markdown",
      "source": [
        "# Create the Multi-Heads Attention\n",
        "\n",
        "**Parameters :**\n",
        "*  embed_size: Dimensionality of the token embeddings (e.g., 128).\n",
        "*  heads: Number of attention heads (e.g., 8).\n",
        "*  values: Tensor representing the values in attention\n",
        "*  keys: Tensor representing the keys in attention\n",
        "*  queries: Tensor representing the queries in attention,\n",
        "*  mask (optional): If a mask is provided, certain positions in the energy tensor are set to -infinity to ignore them during the attention computation."
      ],
      "metadata": {
        "id": "X05SQuv-gO7H"
      }
    },
    {
      "cell_type": "code",
      "source": [
        "class SelfAttention(nn.Module): #nn.Module is a pytorch class that we will inherit\n",
        "    def __init__(self, embed_size, heads): #head is nb of blocs ->> embed_size/heads in each bloc\n",
        "        super(SelfAttention, self).__init__() #to inherit __init__ from Module\n",
        "        self.embed_size =embed_size\n",
        "        self.heads = heads\n",
        "        self.head_dim = embed_size // heads\n",
        "\n",
        "        assert (self.head_dim * heads == embed_size), \"Embed size needs to be div by heads\"  #if the nb isnt divisible it will give you this error\n",
        "\n",
        "        #self.values = nn.Linear(self.head_dim, self.head_dim , bias = False) #create a linear relation of V = V.W -- input nb and output nb : head dimension\n",
        "        #self.keys = nn.Linear(self.head_dim, self.head_dim , bias = False)\n",
        "        #self.queries = nn.Linear(self.head_dim, self.head_dim , bias = False)\n",
        "        self.values = nn.Linear(embed_size, embed_size)\n",
        "        self.keys = nn.Linear(embed_size, embed_size)   #create a linear relation of V = V.W -- input nb and output nb : head dimension\n",
        "        self.queries = nn.Linear(embed_size, embed_size)\n",
        "        self.fc_out = nn.Linear(embed_size, embed_size) #the final output of similar shape to input\n",
        "        #self.fc_out = nn.Linear (heads*self.head_dim , embed_size)\n",
        "\n",
        "    #PyTorch uses the forward method to define custom computations for a module. This allows flexibility in defining neural network layers or models that go beyond predefined operations.\n",
        "    def forward(self , values , keys , query , mask):\n",
        "        N= query.shape[0] #batch size\n",
        "        value_len , key_len , query_len = values.shape[1] , keys.shape[1] , query.shape[1] #Sequence length\n",
        "\n",
        "\n",
        "        values = self.values(values)\n",
        "        keys = self.keys(keys)\n",
        "        queries = self.queries(query)\n",
        "        #Split embedding into self.heads pieces\n",
        "        values = values.reshape(N , value_len , self.heads , self.head_dim) # (batch size , sequence length , nb of attention head , dimension of each head )\n",
        "        keys = keys.reshape(N , key_len , self.heads , self.head_dim)\n",
        "        queries = queries.reshape(N , query_len , self.heads , self.head_dim)\n",
        "\n",
        "        #einsum is matric multiplcation\n",
        "        energy = torch.einsum (\"nqhd,nkhd->nhqk\" , [queries , keys])  # q:query len , h:head , d :head_dim , k : key len\n",
        "        # queries shape : (N , query_len , heads , heads_dim)\n",
        "        # keys shape : (N , key_len , heads , heads_dim)\n",
        "        # energy shape : (N , heads , query_len , key_len)\n",
        "\n",
        "        #Masking (Optional)\n",
        "        if mask is not None : #if we send a mask we will shut down it off\n",
        "            energy = energy.masked_fill(mask==0 , float(\"-1e20\")) #If a mask is provided, certain positions in the energy tensor are set to -infinity to ignore them during the attention computation.\n",
        "\n",
        "        #Scaling on energy\n",
        "        energy_scaled = energy / (self.embed_size ** (1/2))\n",
        "\n",
        "        #Do the Softmax to the scaled energy\n",
        "        attention = torch.softmax(energy_scaled, dim = 3) #dim=3 to convert the energy scores into attention weights.\n",
        "\n",
        "        #Attention * Values -> then we Concatunate\n",
        "        out = torch.einsum(\"nhql,nlhd->nqhd\", [attention, values]).reshape(\n",
        "            N, query_len, self.heads * self.head_dim)  #Reshape here is for concatunate\n",
        "        #attention shape : (N , heads , query_len , key_len)\n",
        "        #values shape : (N , value_len , heads , heads_dim)\n",
        "        #after einsum : (N , query_len , head , head_dim) then flatten last two dimension  -> Shape after reshaping: (N, query_len, embed_size) this is the size of input\n",
        "\n",
        "        #Linear the Output\n",
        "        out = self.fc_out(out)\n",
        "\n",
        "        #return the result\n",
        "        return out"
      ],
      "metadata": {
        "id": "n9VB-53JLgXk"
      },
      "execution_count": 79,
      "outputs": []
    },
    {
      "cell_type": "markdown",
      "source": [
        "# The block contain\n",
        "block input = P , Q , V\n",
        "\n",
        "-> FF input = Noromalization[attention(block input) + block input]\n",
        "\n",
        "-> output = Normalization[Feed Forward(FF input) + FF input]"
      ],
      "metadata": {
        "id": "SUXbPD8SRgb6"
      }
    },
    {
      "cell_type": "code",
      "source": [
        "class TransformerBlock(nn.Module) :\n",
        "    def __init__ (self , embed_size , heads , dropout , forward_expansion):   #forward expansion to increase nb of output of first linear -- Ex of the NN if embed size = 64 and forward expansion = 8 : 64 - 512 - 64\n",
        "        super (TransformerBlock , self).__init__()\n",
        "        self.attention = SelfAttention(embed_size , heads) #create the multi-attention block\n",
        "        self.norm1 = nn.LayerNorm(embed_size) #normalization (take an average)\n",
        "        self.norm2 = nn.LayerNorm(embed_size)\n",
        "\n",
        "        self.feed_forward = nn.Sequential(\n",
        "            nn.Linear(embed_size , forward_expansion*embed_size),\n",
        "            nn.ReLU(),\n",
        "            nn.Linear(forward_expansion*embed_size , embed_size)\n",
        "        )\n",
        "        self.dropout = nn.Dropout(dropout) #for prevent overfit\n",
        "\n",
        "    def forward (self , value , key , query , mask):  #forward for use what we defined in the init\n",
        "      attention = self.attention(value , key , query , mask)\n",
        "      x =self.dropout(self.norm1(attention + query))\n",
        "      forward = self.feed_forward(x)\n",
        "      out = self.dropout(self.norm2(forward + x))\n",
        "      return out\n",
        ""
      ],
      "metadata": {
        "id": "UHAyg2cUfccT"
      },
      "execution_count": 80,
      "outputs": []
    },
    {
      "cell_type": "markdown",
      "source": [
        "# Create the Encoder\n",
        "\n",
        "**Parameters :**\n",
        "*   src_vocab_size: Size of the source vocabulary (number of unique tokens in the input data).\n",
        "*   embed_size: Dimensionality of the word embeddings.\n",
        "*   num_layers: Number of transformer blocks (layers) to stack in the encoder.\n",
        "*   heads: Number of attention heads in each transformer block.\n",
        "*   device: The device on which to run the model (e.g., CPU or GPU).\n",
        "*   forward_expansion: The expansion factor for the feed-forward network inside each transformer block (as explained earlier).\n",
        "*   dropout: Dropout rate for regularization to prevent overfitting.\n",
        "*   max_length: Maximum length of the input sequence (used for positional encoding).\n",
        "\n",
        "\n",
        "**Steps :**\n",
        "\n",
        "block input = input embedding(input) + positional embedding                     \n",
        "use the Transformer Block for the block input\n",
        "\n",
        "Congratulation , we have done the full Encoder"
      ],
      "metadata": {
        "id": "JklbiMvtfyl-"
      }
    },
    {
      "cell_type": "code",
      "source": [
        "class Encoder (nn.Module) :\n",
        "    def __init__(\n",
        "        self ,\n",
        "        src_vocab_size ,\n",
        "        embed_size ,\n",
        "        num_layers,\n",
        "        heads ,\n",
        "        device ,\n",
        "        forward_expansion ,\n",
        "        dropout ,\n",
        "        max_length\n",
        "    ) :\n",
        "        super(Encoder , self).__init__()\n",
        "        self.embed_size = embed_size\n",
        "        self.device = device\n",
        "        self.word_embedding = nn.Embedding(src_vocab_size , embed_size)\n",
        "        self.position_embedding = nn.Embedding(max_length , embed_size)\n",
        "\n",
        "        self.layers = nn.ModuleList(\n",
        "            [\n",
        "                TransformerBlock(\n",
        "                    embed_size ,\n",
        "                    heads ,\n",
        "                    dropout = dropout ,\n",
        "                    forward_expansion = forward_expansion\n",
        "                )\n",
        "            for _ in range (num_layers)]\n",
        "        )\n",
        "        self.dropout = nn.Dropout (dropout)\n",
        "\n",
        "    def forward(self , x , mask) :\n",
        "      N , seq_Length = x.shape\n",
        "      positions = torch.arange(0 , seq_Length).to(self.device)\n",
        "\n",
        "      out = self.dropout(self.word_embedding(x) + self.position_embedding(positions))\n",
        "\n",
        "      for layer in self.layers :\n",
        "           out = layer(out , out , out , mask)\n",
        "      return out"
      ],
      "metadata": {
        "id": "8hLUn7QZfxum"
      },
      "execution_count": 81,
      "outputs": []
    },
    {
      "cell_type": "markdown",
      "source": [
        "# Create the Decoder"
      ],
      "metadata": {
        "id": "ovim4C2HtBpn"
      }
    },
    {
      "cell_type": "code",
      "source": [
        "class DecoderBlock(nn.Module) :\n",
        "      def __init__ ( self , embed_size , heads , forward_expansion , dropout , device) :\n",
        "          super(DecoderBlock , self).__init__()\n",
        "          self.attention = SelfAttention(embed_size , heads)\n",
        "          self.norm = nn.LayerNorm(embed_size)\n",
        "          self.transformer_block = TransformerBlock (\n",
        "              embed_size , heads , dropout , forward_expansion\n",
        "          )\n",
        "          self.dropout = nn.Dropout(dropout)\n",
        "\n",
        "      def forward (self , x , value , key , src_mask , target_mask) :\n",
        "          attention = self.attention (x,x,x, target_mask)\n",
        "          query = self.dropout(self.norm(attention + x))\n",
        "          out = self.transformer_block(value , key , query , src_mask)\n",
        "          return out"
      ],
      "metadata": {
        "id": "SPmVcrLOtEtj"
      },
      "execution_count": 82,
      "outputs": []
    },
    {
      "cell_type": "code",
      "source": [
        "class Decoder(nn.Module) :\n",
        "      def __init__ (\n",
        "          self ,\n",
        "          trg_vocab_size ,\n",
        "          embed_size ,\n",
        "          num_layers ,\n",
        "          heads ,\n",
        "          forward_expansion ,\n",
        "          dropout ,\n",
        "          device ,\n",
        "          max_length\n",
        "      ) :\n",
        "          super (Decoder , self).__init__()\n",
        "          self.device = device\n",
        "          self.word_embedding = nn.Embedding(trg_vocab_size , embed_size)\n",
        "          self.position_embedding = nn.Embedding(max_length , embed_size)\n",
        "\n",
        "          self.Layers = nn.ModuleList (\n",
        "              [DecoderBlock(embed_size , heads , forward_expansion , dropout , device)\n",
        "              for _ in range (num_layers)]\n",
        "          )\n",
        "\n",
        "          self.fc_out = nn.Linear (embed_size , trg_vocab_size)\n",
        "          self.dropout = nn.Dropout(dropout)\n",
        "\n",
        "      def forward (self , x , enc_out , src_mask , trg_mask) : #enc : encoder\n",
        "            N , seq_length = x.shape\n",
        "            positions = torch.arange(0 , seq_length).to(self.device)\n",
        "            x = self.dropout((self.word_embedding(x) + self.position_embedding(positions)))\n",
        "\n",
        "            for layer in self.Layers :\n",
        "                x = layer(x , enc_out , enc_out , src_mask , trg_mask)\n",
        "\n",
        "            out = self.fc_out(x)\n",
        "            return out\n",
        ""
      ],
      "metadata": {
        "id": "7xaAwj7_uAuh"
      },
      "execution_count": 83,
      "outputs": []
    },
    {
      "cell_type": "markdown",
      "source": [
        "# Putting Together everything to form the Transformers"
      ],
      "metadata": {
        "id": "E_M19Uipvrjj"
      }
    },
    {
      "cell_type": "code",
      "source": [
        "class Transformers (nn.Module) :\n",
        "      def __init__ (\n",
        "          self ,\n",
        "          src_vocab_size ,\n",
        "          trg_vocab_size ,\n",
        "          src_pad_idx ,\n",
        "          trg_pad_idx ,\n",
        "          embed_size = 256 ,\n",
        "          num_layers = 6 ,\n",
        "          forward_expansion = 4 ,\n",
        "          heads = 8 ,\n",
        "          dropout = 0 ,\n",
        "          device = \"cuda\" ,\n",
        "          max_length = 100\n",
        "      ) :\n",
        "            super(Transformers , self).__init__()\n",
        "            self.encoder = Encoder(\n",
        "                src_vocab_size ,\n",
        "                embed_size ,\n",
        "                num_layers ,\n",
        "                heads ,\n",
        "                device ,\n",
        "                forward_expansion ,\n",
        "                dropout ,\n",
        "                max_length\n",
        "            )\n",
        "\n",
        "            self.decoder = Decoder(\n",
        "                trg_vocab_size ,\n",
        "                embed_size ,\n",
        "                num_layers ,\n",
        "                heads ,\n",
        "                forward_expansion ,\n",
        "                dropout ,\n",
        "                device ,\n",
        "                max_length\n",
        "            )\n",
        "\n",
        "            self.src_pad_idx = src_pad_idx\n",
        "            self.trg_pad_idx = trg_pad_idx\n",
        "            self.device = device\n",
        "\n",
        "      def make_src_mask (self , src):\n",
        "        src_mask = (src != self.src_pad_idx).unsqueeze(1).unsqueeze(2)\n",
        "        # (N, 1, 1, src_len)\n",
        "        return src_mask.to(self.device)\n",
        "\n",
        "      def make_trg_mask (self , trg) :\n",
        "        N , trg_len = trg.shape\n",
        "        trg_mask = torch.tril(torch.ones((trg_len , trg_len))).expand(\n",
        "            N , 1 , trg_len , trg_len\n",
        "        ) #triangulaire matrix\n",
        "        return trg_mask.to(self.device)\n",
        "\n",
        "      def forward (self , src , trg) :\n",
        "        src_mask = self.make_src_mask(src)\n",
        "        trg_mask = self.make_trg_mask(trg)\n",
        "        enc_src = self.encoder(src , src_mask)\n",
        "        out = self.decoder(trg , enc_src , src_mask , trg_mask)\n",
        "        return out"
      ],
      "metadata": {
        "id": "2ky9rXTGvysE"
      },
      "execution_count": 84,
      "outputs": []
    },
    {
      "cell_type": "markdown",
      "source": [
        "# Example"
      ],
      "metadata": {
        "id": "LqrRqFC9xLe2"
      }
    },
    {
      "cell_type": "code",
      "source": [
        "if __name__ == \"__main__\":\n",
        "    device = torch.device(\"cuda\" if torch.cuda.is_available() else \"cpu\")\n",
        "    print(device)\n",
        "\n",
        "    x = torch.tensor([[1, 5, 6, 4, 3, 9, 5, 2, 0], [1, 8, 7, 3, 4, 5, 6, 7, 2]]).to(\n",
        "        device\n",
        "    )\n",
        "    trg = torch.tensor([[1, 7, 4, 3, 5, 9, 2, 0], [1, 5, 6, 2, 4, 7, 6, 2]]).to(device)\n",
        "\n",
        "    src_pad_idx = 0\n",
        "    trg_pad_idx = 0\n",
        "    src_vocab_size = 10\n",
        "    trg_vocab_size = 10\n",
        "    model = Transformers(src_vocab_size, trg_vocab_size, src_pad_idx, trg_pad_idx, device=device).to(\n",
        "        device\n",
        "    )\n",
        "    out = model(x, trg[:, :-1])\n",
        "    print(out.shape)"
      ],
      "metadata": {
        "colab": {
          "base_uri": "https://localhost:8080/"
        },
        "id": "hRxuDW_XxK6r",
        "outputId": "1c5e42b6-1c4d-46b4-ba91-03f85740ae87"
      },
      "execution_count": 85,
      "outputs": [
        {
          "output_type": "stream",
          "name": "stdout",
          "text": [
            "cpu\n",
            "torch.Size([2, 7, 10])\n"
          ]
        }
      ]
    }
  ]
}